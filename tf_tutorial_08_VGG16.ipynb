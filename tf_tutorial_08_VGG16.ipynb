{
  "nbformat": 4,
  "nbformat_minor": 0,
  "metadata": {
    "colab": {
      "name": "tf_tutorial_08_VGG16.ipynb",
      "provenance": [],
      "collapsed_sections": [],
      "authorship_tag": "ABX9TyPEiQ7y1syoi2r2RVGss5qs",
      "include_colab_link": true
    },
    "kernelspec": {
      "name": "python3",
      "display_name": "Python 3"
    },
    "language_info": {
      "name": "python"
    },
    "accelerator": "GPU"
  },
  "cells": [
    {
      "cell_type": "markdown",
      "metadata": {
        "id": "view-in-github",
        "colab_type": "text"
      },
      "source": [
        "<a href=\"https://colab.research.google.com/github/churry75/Coding_Test_Prac/blob/main/tf_tutorial_08_VGG16.ipynb\" target=\"_parent\"><img src=\"https://colab.research.google.com/assets/colab-badge.svg\" alt=\"Open In Colab\"/></a>"
      ]
    },
    {
      "cell_type": "markdown",
      "metadata": {
        "id": "fIz-r9_OGJzq"
      },
      "source": [
        "## VGG 16 Model"
      ]
    },
    {
      "cell_type": "code",
      "metadata": {
        "id": "ONbib3xm0_dy"
      },
      "source": [
        "_input = keras.layers.Input(shape=[32, 32, 3])"
      ],
      "execution_count": null,
      "outputs": []
    },
    {
      "cell_type": "code",
      "metadata": {
        "id": "jqNAmELN1J73"
      },
      "source": [
        "conv_1 = keras.layers.Conv2D(filters=64, kernel_size=3, \n",
        "                             padding='same', activation='relu')(_input)\n",
        "conv_1 = keras.layers.Conv2D(filters=64, kernel_size=3, \n",
        "                             padding='same', activation='relu')(conv_1)\n",
        "conv_1 = keras.layers.MaxPool2D(pool_size=2, strides=2, padding='same')(conv_1)"
      ],
      "execution_count": null,
      "outputs": []
    },
    {
      "cell_type": "code",
      "metadata": {
        "id": "z5c6g78_3d4l"
      },
      "source": [
        "conv_2 = keras.layers.Conv2D(filters=128, kernel_size=3, \n",
        "                             padding='same', activation='relu')(conv_1)\n",
        "conv_2 = keras.layers.Conv2D(filters=128, kernel_size=3, \n",
        "                             padding='same', activation='relu')(conv_2)\n",
        "conv_2 = keras.layers.MaxPool2D(pool_size=2, strides=2, padding='same')(conv_2)"
      ],
      "execution_count": null,
      "outputs": []
    },
    {
      "cell_type": "code",
      "metadata": {
        "id": "9NNHWNNk4ECo"
      },
      "source": [
        "conv_3 = keras.layers.Conv2D(filters=256, kernel_size=3, \n",
        "                             padding='same', activation='relu')(conv_2)\n",
        "conv_3 = keras.layers.Conv2D(filters=256, kernel_size=3, \n",
        "                             padding='same', activation='relu')(conv_3)\n",
        "conv_3 = keras.layers.Conv2D(filters=256, kernel_size=3,\n",
        "                             padding='same', activation='relu')(conv_3)\n",
        "conv_3 = keras.layers.MaxPool2D(pool_size=2, strides=2, padding='same')(conv_3)"
      ],
      "execution_count": null,
      "outputs": []
    },
    {
      "cell_type": "code",
      "metadata": {
        "id": "FSW3duwI4xS0"
      },
      "source": [
        "conv_4 = keras.layers.Conv2D(filters=512, kernel_size=3,\n",
        "                             padding='same', activation='relu')(conv_3)\n",
        "conv_4 = keras.layers.Conv2D(filters=512, kernel_size=3,\n",
        "                             padding='same', activation='relu')(conv_4)\n",
        "conv_4 = keras.layers.Conv2D(filters=512, kernel_size=3,\n",
        "                             padding='same', activation='relu')(conv_4)\n",
        "conv_4 = keras.layers.MaxPool2D(pool_size=2, strides=2, padding='same')(conv_4)"
      ],
      "execution_count": null,
      "outputs": []
    },
    {
      "cell_type": "code",
      "metadata": {
        "id": "deG7Y6Tp44ke"
      },
      "source": [
        "conv_5 = keras.layers.Conv2D(filters=512, kernel_size=3,\n",
        "                             padding='same', activation='relu')(conv_4)\n",
        "conv_5 = keras.layers.Conv2D(filters=512, kernel_size=3,\n",
        "                             padding='same', activation='relu')(conv_5)\n",
        "conv_5 = keras.layers.Conv2D(filters=512, kernel_size=3,\n",
        "                             padding='same', activation='relu')(conv_5)\n",
        "conv_5 = keras.layers.MaxPool2D(pool_size=2, strides=2, padding='same')(conv_5)"
      ],
      "execution_count": null,
      "outputs": []
    },
    {
      "cell_type": "code",
      "metadata": {
        "id": "WfLAITi35XWp"
      },
      "source": [
        "flatten_1 = keras.layers.Flatten()(conv_5)\n",
        "dense_1 = keras.layers.Dense(units=4096, activation='relu')(flatten_1)\n",
        "dense_2 = keras.layers.Dense(units=4096, activation='relu')(dense_1)\n",
        "_output = keras.layers.Dense(units=1000, activation='softmax')(dense_2)"
      ],
      "execution_count": null,
      "outputs": []
    },
    {
      "cell_type": "code",
      "metadata": {
        "id": "NHw66NO88T6u",
        "colab": {
          "base_uri": "https://localhost:8080/"
        },
        "outputId": "78b3ace2-ba2d-4a43-d286-fb4d097964aa"
      },
      "source": [
        "model = keras.Model(inputs=_input, outputs=_output)\n",
        "model.summary()"
      ],
      "execution_count": null,
      "outputs": [
        {
          "output_type": "stream",
          "text": [
            "Model: \"model\"\n",
            "_________________________________________________________________\n",
            "Layer (type)                 Output Shape              Param #   \n",
            "=================================================================\n",
            "input_1 (InputLayer)         [(None, 32, 32, 3)]       0         \n",
            "_________________________________________________________________\n",
            "conv2d (Conv2D)              (None, 32, 32, 64)        1792      \n",
            "_________________________________________________________________\n",
            "conv2d_1 (Conv2D)            (None, 32, 32, 64)        36928     \n",
            "_________________________________________________________________\n",
            "max_pooling2d (MaxPooling2D) (None, 16, 16, 64)        0         \n",
            "_________________________________________________________________\n",
            "conv2d_2 (Conv2D)            (None, 16, 16, 128)       73856     \n",
            "_________________________________________________________________\n",
            "conv2d_3 (Conv2D)            (None, 16, 16, 128)       147584    \n",
            "_________________________________________________________________\n",
            "max_pooling2d_1 (MaxPooling2 (None, 8, 8, 128)         0         \n",
            "_________________________________________________________________\n",
            "conv2d_4 (Conv2D)            (None, 8, 8, 256)         295168    \n",
            "_________________________________________________________________\n",
            "conv2d_5 (Conv2D)            (None, 8, 8, 256)         590080    \n",
            "_________________________________________________________________\n",
            "conv2d_6 (Conv2D)            (None, 8, 8, 256)         590080    \n",
            "_________________________________________________________________\n",
            "max_pooling2d_2 (MaxPooling2 (None, 4, 4, 256)         0         \n",
            "_________________________________________________________________\n",
            "conv2d_7 (Conv2D)            (None, 4, 4, 512)         1180160   \n",
            "_________________________________________________________________\n",
            "conv2d_8 (Conv2D)            (None, 4, 4, 512)         2359808   \n",
            "_________________________________________________________________\n",
            "conv2d_9 (Conv2D)            (None, 4, 4, 512)         2359808   \n",
            "_________________________________________________________________\n",
            "max_pooling2d_3 (MaxPooling2 (None, 2, 2, 512)         0         \n",
            "_________________________________________________________________\n",
            "conv2d_10 (Conv2D)           (None, 2, 2, 512)         2359808   \n",
            "_________________________________________________________________\n",
            "conv2d_11 (Conv2D)           (None, 2, 2, 512)         2359808   \n",
            "_________________________________________________________________\n",
            "conv2d_12 (Conv2D)           (None, 2, 2, 512)         2359808   \n",
            "_________________________________________________________________\n",
            "max_pooling2d_4 (MaxPooling2 (None, 1, 1, 512)         0         \n",
            "_________________________________________________________________\n",
            "flatten (Flatten)            (None, 512)               0         \n",
            "_________________________________________________________________\n",
            "dense (Dense)                (None, 4096)              2101248   \n",
            "_________________________________________________________________\n",
            "dense_1 (Dense)              (None, 4096)              16781312  \n",
            "_________________________________________________________________\n",
            "dense_2 (Dense)              (None, 1000)              4097000   \n",
            "=================================================================\n",
            "Total params: 37,694,248\n",
            "Trainable params: 37,694,248\n",
            "Non-trainable params: 0\n",
            "_________________________________________________________________\n"
          ],
          "name": "stdout"
        }
      ]
    },
    {
      "cell_type": "code",
      "metadata": {
        "id": "JKpcNSgI7LEA"
      },
      "source": [
        "model.compile(optimizer=keras.optimizers.SGD(learning_rate=0.01),\n",
        "              loss=keras.losses.sparse_categorical_crossentropy,\n",
        "              metrics=[keras.metrics.sparse_categorical_accuracy]\n",
        "              )"
      ],
      "execution_count": null,
      "outputs": []
    },
    {
      "cell_type": "code",
      "metadata": {
        "id": "MLGHKM697MQh",
        "colab": {
          "base_uri": "https://localhost:8080/"
        },
        "outputId": "0d68b89c-557c-4abd-e812-f35b1d93aed5"
      },
      "source": [
        "histo = model.fit(images, labels, epochs=100)"
      ],
      "execution_count": null,
      "outputs": [
        {
          "output_type": "stream",
          "text": [
            "Epoch 1/100\n",
            "1/1 [==============================] - 0s 42ms/step - loss: 6.8972 - sparse_categorical_accuracy: 0.1562\n",
            "Epoch 2/100\n",
            "1/1 [==============================] - 0s 41ms/step - loss: 6.8934 - sparse_categorical_accuracy: 0.1562\n",
            "Epoch 3/100\n",
            "1/1 [==============================] - 0s 43ms/step - loss: 6.8897 - sparse_categorical_accuracy: 0.1562\n",
            "Epoch 4/100\n",
            "1/1 [==============================] - 0s 41ms/step - loss: 6.8861 - sparse_categorical_accuracy: 0.1562\n",
            "Epoch 5/100\n",
            "1/1 [==============================] - 0s 44ms/step - loss: 6.8827 - sparse_categorical_accuracy: 0.1562\n",
            "Epoch 6/100\n",
            "1/1 [==============================] - 0s 32ms/step - loss: 6.8793 - sparse_categorical_accuracy: 0.1562\n",
            "Epoch 7/100\n",
            "1/1 [==============================] - 0s 29ms/step - loss: 6.8761 - sparse_categorical_accuracy: 0.1562\n",
            "Epoch 8/100\n",
            "1/1 [==============================] - 0s 31ms/step - loss: 6.8728 - sparse_categorical_accuracy: 0.1562\n",
            "Epoch 9/100\n",
            "1/1 [==============================] - 0s 29ms/step - loss: 6.8696 - sparse_categorical_accuracy: 0.1562\n",
            "Epoch 10/100\n",
            "1/1 [==============================] - 0s 29ms/step - loss: 6.8664 - sparse_categorical_accuracy: 0.1562\n",
            "Epoch 11/100\n",
            "1/1 [==============================] - 0s 32ms/step - loss: 6.8633 - sparse_categorical_accuracy: 0.1562\n",
            "Epoch 12/100\n",
            "1/1 [==============================] - 0s 27ms/step - loss: 6.8602 - sparse_categorical_accuracy: 0.1562\n",
            "Epoch 13/100\n",
            "1/1 [==============================] - 0s 28ms/step - loss: 6.8571 - sparse_categorical_accuracy: 0.1562\n",
            "Epoch 14/100\n",
            "1/1 [==============================] - 0s 28ms/step - loss: 6.8541 - sparse_categorical_accuracy: 0.1562\n",
            "Epoch 15/100\n",
            "1/1 [==============================] - 0s 28ms/step - loss: 6.8510 - sparse_categorical_accuracy: 0.1562\n",
            "Epoch 16/100\n",
            "1/1 [==============================] - 0s 29ms/step - loss: 6.8480 - sparse_categorical_accuracy: 0.1562\n",
            "Epoch 17/100\n",
            "1/1 [==============================] - 0s 32ms/step - loss: 6.8450 - sparse_categorical_accuracy: 0.1562\n",
            "Epoch 18/100\n",
            "1/1 [==============================] - 0s 29ms/step - loss: 6.8420 - sparse_categorical_accuracy: 0.1562\n",
            "Epoch 19/100\n",
            "1/1 [==============================] - 0s 27ms/step - loss: 6.8390 - sparse_categorical_accuracy: 0.1562\n",
            "Epoch 20/100\n",
            "1/1 [==============================] - 0s 28ms/step - loss: 6.8361 - sparse_categorical_accuracy: 0.1562\n",
            "Epoch 21/100\n",
            "1/1 [==============================] - 0s 30ms/step - loss: 6.8331 - sparse_categorical_accuracy: 0.1562\n",
            "Epoch 22/100\n",
            "1/1 [==============================] - 0s 28ms/step - loss: 6.8303 - sparse_categorical_accuracy: 0.1562\n",
            "Epoch 23/100\n",
            "1/1 [==============================] - 0s 30ms/step - loss: 6.8273 - sparse_categorical_accuracy: 0.1562\n",
            "Epoch 24/100\n",
            "1/1 [==============================] - 0s 28ms/step - loss: 6.8244 - sparse_categorical_accuracy: 0.1562\n",
            "Epoch 25/100\n",
            "1/1 [==============================] - 0s 28ms/step - loss: 6.8215 - sparse_categorical_accuracy: 0.1562\n",
            "Epoch 26/100\n",
            "1/1 [==============================] - 0s 28ms/step - loss: 6.8185 - sparse_categorical_accuracy: 0.1562\n",
            "Epoch 27/100\n",
            "1/1 [==============================] - 0s 28ms/step - loss: 6.8155 - sparse_categorical_accuracy: 0.1562\n",
            "Epoch 28/100\n",
            "1/1 [==============================] - 0s 28ms/step - loss: 6.8124 - sparse_categorical_accuracy: 0.1562\n",
            "Epoch 29/100\n",
            "1/1 [==============================] - 0s 29ms/step - loss: 6.8094 - sparse_categorical_accuracy: 0.1562\n",
            "Epoch 30/100\n",
            "1/1 [==============================] - 0s 29ms/step - loss: 6.8062 - sparse_categorical_accuracy: 0.1562\n",
            "Epoch 31/100\n",
            "1/1 [==============================] - 0s 28ms/step - loss: 6.8031 - sparse_categorical_accuracy: 0.1562\n",
            "Epoch 32/100\n",
            "1/1 [==============================] - 0s 28ms/step - loss: 6.8000 - sparse_categorical_accuracy: 0.1562\n",
            "Epoch 33/100\n",
            "1/1 [==============================] - 0s 30ms/step - loss: 6.7969 - sparse_categorical_accuracy: 0.1562\n",
            "Epoch 34/100\n",
            "1/1 [==============================] - 0s 29ms/step - loss: 6.7938 - sparse_categorical_accuracy: 0.1562\n",
            "Epoch 35/100\n",
            "1/1 [==============================] - 0s 29ms/step - loss: 6.7907 - sparse_categorical_accuracy: 0.1562\n",
            "Epoch 36/100\n",
            "1/1 [==============================] - 0s 28ms/step - loss: 6.7874 - sparse_categorical_accuracy: 0.1562\n",
            "Epoch 37/100\n",
            "1/1 [==============================] - 0s 30ms/step - loss: 6.7843 - sparse_categorical_accuracy: 0.1562\n",
            "Epoch 38/100\n",
            "1/1 [==============================] - 0s 34ms/step - loss: 6.7812 - sparse_categorical_accuracy: 0.1562\n",
            "Epoch 39/100\n",
            "1/1 [==============================] - 0s 27ms/step - loss: 6.7782 - sparse_categorical_accuracy: 0.1562\n",
            "Epoch 40/100\n",
            "1/1 [==============================] - 0s 28ms/step - loss: 6.7744 - sparse_categorical_accuracy: 0.1562\n",
            "Epoch 41/100\n",
            "1/1 [==============================] - 0s 30ms/step - loss: 6.7710 - sparse_categorical_accuracy: 0.1562\n",
            "Epoch 42/100\n",
            "1/1 [==============================] - 0s 28ms/step - loss: 6.7673 - sparse_categorical_accuracy: 0.1562\n",
            "Epoch 43/100\n",
            "1/1 [==============================] - 0s 27ms/step - loss: 6.7638 - sparse_categorical_accuracy: 0.1562\n",
            "Epoch 44/100\n",
            "1/1 [==============================] - 0s 28ms/step - loss: 6.7601 - sparse_categorical_accuracy: 0.1562\n",
            "Epoch 45/100\n",
            "1/1 [==============================] - 0s 28ms/step - loss: 6.7565 - sparse_categorical_accuracy: 0.1562\n",
            "Epoch 46/100\n",
            "1/1 [==============================] - 0s 27ms/step - loss: 6.7528 - sparse_categorical_accuracy: 0.1562\n",
            "Epoch 47/100\n",
            "1/1 [==============================] - 0s 28ms/step - loss: 6.7492 - sparse_categorical_accuracy: 0.1562\n",
            "Epoch 48/100\n",
            "1/1 [==============================] - 0s 27ms/step - loss: 6.7454 - sparse_categorical_accuracy: 0.1562\n",
            "Epoch 49/100\n",
            "1/1 [==============================] - 0s 30ms/step - loss: 6.7417 - sparse_categorical_accuracy: 0.1562\n",
            "Epoch 50/100\n",
            "1/1 [==============================] - 0s 28ms/step - loss: 6.7374 - sparse_categorical_accuracy: 0.1562\n",
            "Epoch 51/100\n",
            "1/1 [==============================] - 0s 29ms/step - loss: 6.7332 - sparse_categorical_accuracy: 0.1562\n",
            "Epoch 52/100\n",
            "1/1 [==============================] - 0s 30ms/step - loss: 6.7286 - sparse_categorical_accuracy: 0.1562\n",
            "Epoch 53/100\n",
            "1/1 [==============================] - 0s 28ms/step - loss: 6.7241 - sparse_categorical_accuracy: 0.1562\n",
            "Epoch 54/100\n",
            "1/1 [==============================] - 0s 28ms/step - loss: 6.7194 - sparse_categorical_accuracy: 0.1562\n",
            "Epoch 55/100\n",
            "1/1 [==============================] - 0s 32ms/step - loss: 6.7146 - sparse_categorical_accuracy: 0.1562\n",
            "Epoch 56/100\n",
            "1/1 [==============================] - 0s 30ms/step - loss: 6.7096 - sparse_categorical_accuracy: 0.1562\n",
            "Epoch 57/100\n",
            "1/1 [==============================] - 0s 28ms/step - loss: 6.7045 - sparse_categorical_accuracy: 0.1562\n",
            "Epoch 58/100\n",
            "1/1 [==============================] - 0s 34ms/step - loss: 6.6990 - sparse_categorical_accuracy: 0.1562\n",
            "Epoch 59/100\n",
            "1/1 [==============================] - 0s 29ms/step - loss: 6.6932 - sparse_categorical_accuracy: 0.1562\n",
            "Epoch 60/100\n",
            "1/1 [==============================] - 0s 30ms/step - loss: 6.6870 - sparse_categorical_accuracy: 0.1562\n",
            "Epoch 61/100\n",
            "1/1 [==============================] - 0s 28ms/step - loss: 6.6802 - sparse_categorical_accuracy: 0.1562\n",
            "Epoch 62/100\n",
            "1/1 [==============================] - 0s 29ms/step - loss: 6.6728 - sparse_categorical_accuracy: 0.1562\n",
            "Epoch 63/100\n",
            "1/1 [==============================] - 0s 30ms/step - loss: 6.6647 - sparse_categorical_accuracy: 0.1562\n",
            "Epoch 64/100\n",
            "1/1 [==============================] - 0s 28ms/step - loss: 6.6556 - sparse_categorical_accuracy: 0.1562\n",
            "Epoch 65/100\n",
            "1/1 [==============================] - 0s 30ms/step - loss: 6.6451 - sparse_categorical_accuracy: 0.1562\n",
            "Epoch 66/100\n",
            "1/1 [==============================] - 0s 27ms/step - loss: 6.6326 - sparse_categorical_accuracy: 0.1562\n",
            "Epoch 67/100\n",
            "1/1 [==============================] - 0s 32ms/step - loss: 6.6174 - sparse_categorical_accuracy: 0.1562\n",
            "Epoch 68/100\n",
            "1/1 [==============================] - 0s 27ms/step - loss: 6.5984 - sparse_categorical_accuracy: 0.1562\n",
            "Epoch 69/100\n",
            "1/1 [==============================] - 0s 28ms/step - loss: 6.5732 - sparse_categorical_accuracy: 0.1562\n",
            "Epoch 70/100\n",
            "1/1 [==============================] - 0s 28ms/step - loss: 6.5375 - sparse_categorical_accuracy: 0.1562\n",
            "Epoch 71/100\n",
            "1/1 [==============================] - 0s 28ms/step - loss: 6.4810 - sparse_categorical_accuracy: 0.1562\n",
            "Epoch 72/100\n",
            "1/1 [==============================] - 0s 27ms/step - loss: 6.3787 - sparse_categorical_accuracy: 0.1562\n",
            "Epoch 73/100\n",
            "1/1 [==============================] - 0s 27ms/step - loss: 6.1698 - sparse_categorical_accuracy: 0.1562\n",
            "Epoch 74/100\n",
            "1/1 [==============================] - 0s 30ms/step - loss: 6.0316 - sparse_categorical_accuracy: 0.1562\n",
            "Epoch 75/100\n",
            "1/1 [==============================] - 0s 31ms/step - loss: 6.5250 - sparse_categorical_accuracy: 0.1562\n",
            "Epoch 76/100\n",
            "1/1 [==============================] - 0s 28ms/step - loss: 6.4082 - sparse_categorical_accuracy: 0.1562\n",
            "Epoch 77/100\n",
            "1/1 [==============================] - 0s 27ms/step - loss: 6.1429 - sparse_categorical_accuracy: 0.1562\n",
            "Epoch 78/100\n",
            "1/1 [==============================] - 0s 31ms/step - loss: 5.5162 - sparse_categorical_accuracy: 0.1562\n",
            "Epoch 79/100\n",
            "1/1 [==============================] - 0s 27ms/step - loss: 5.3232 - sparse_categorical_accuracy: 0.1562\n",
            "Epoch 80/100\n",
            "1/1 [==============================] - 0s 29ms/step - loss: 6.1619 - sparse_categorical_accuracy: 0.1562\n",
            "Epoch 81/100\n",
            "1/1 [==============================] - 0s 27ms/step - loss: 5.3168 - sparse_categorical_accuracy: 0.1562\n",
            "Epoch 82/100\n",
            "1/1 [==============================] - 0s 27ms/step - loss: 9.5014 - sparse_categorical_accuracy: 0.1562\n",
            "Epoch 83/100\n",
            "1/1 [==============================] - 0s 30ms/step - loss: 6.6743 - sparse_categorical_accuracy: 0.2188\n",
            "Epoch 84/100\n",
            "1/1 [==============================] - 0s 30ms/step - loss: 6.6696 - sparse_categorical_accuracy: 0.2188\n",
            "Epoch 85/100\n",
            "1/1 [==============================] - 0s 29ms/step - loss: 6.6648 - sparse_categorical_accuracy: 0.2188\n",
            "Epoch 86/100\n",
            "1/1 [==============================] - 0s 28ms/step - loss: 6.6599 - sparse_categorical_accuracy: 0.2188\n",
            "Epoch 87/100\n",
            "1/1 [==============================] - 0s 29ms/step - loss: 6.6550 - sparse_categorical_accuracy: 0.2188\n",
            "Epoch 88/100\n",
            "1/1 [==============================] - 0s 27ms/step - loss: 6.6499 - sparse_categorical_accuracy: 0.2188\n",
            "Epoch 89/100\n",
            "1/1 [==============================] - 0s 28ms/step - loss: 6.6447 - sparse_categorical_accuracy: 0.2188\n",
            "Epoch 90/100\n",
            "1/1 [==============================] - 0s 28ms/step - loss: 6.6393 - sparse_categorical_accuracy: 0.2188\n",
            "Epoch 91/100\n",
            "1/1 [==============================] - 0s 28ms/step - loss: 6.6337 - sparse_categorical_accuracy: 0.2188\n",
            "Epoch 92/100\n",
            "1/1 [==============================] - 0s 27ms/step - loss: 6.6280 - sparse_categorical_accuracy: 0.2188\n",
            "Epoch 93/100\n",
            "1/1 [==============================] - 0s 31ms/step - loss: 6.6219 - sparse_categorical_accuracy: 0.2188\n",
            "Epoch 94/100\n",
            "1/1 [==============================] - 0s 28ms/step - loss: 6.6155 - sparse_categorical_accuracy: 0.2188\n",
            "Epoch 95/100\n",
            "1/1 [==============================] - 0s 28ms/step - loss: 6.6087 - sparse_categorical_accuracy: 0.2188\n",
            "Epoch 96/100\n",
            "1/1 [==============================] - 0s 30ms/step - loss: 6.6013 - sparse_categorical_accuracy: 0.2188\n",
            "Epoch 97/100\n",
            "1/1 [==============================] - 0s 34ms/step - loss: 6.5933 - sparse_categorical_accuracy: 0.2188\n",
            "Epoch 98/100\n",
            "1/1 [==============================] - 0s 28ms/step - loss: 6.5844 - sparse_categorical_accuracy: 0.2188\n",
            "Epoch 99/100\n",
            "1/1 [==============================] - 0s 30ms/step - loss: 6.5743 - sparse_categorical_accuracy: 0.2188\n",
            "Epoch 100/100\n",
            "1/1 [==============================] - 0s 27ms/step - loss: 6.5626 - sparse_categorical_accuracy: 0.2188\n"
          ],
          "name": "stdout"
        }
      ]
    },
    {
      "cell_type": "code",
      "metadata": {
        "id": "UJLgto-dj5hL"
      },
      "source": [
        ""
      ],
      "execution_count": null,
      "outputs": []
    }
  ]
}