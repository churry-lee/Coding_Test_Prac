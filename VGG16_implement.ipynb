{
  "nbformat": 4,
  "nbformat_minor": 0,
  "metadata": {
    "colab": {
      "name": "VGG16_implement.ipynb",
      "provenance": [],
      "authorship_tag": "ABX9TyMSyrEpiLlZX86P+RfFJtSL",
      "include_colab_link": true
    },
    "kernelspec": {
      "name": "python3",
      "display_name": "Python 3"
    },
    "language_info": {
      "name": "python"
    }
  },
  "cells": [
    {
      "cell_type": "markdown",
      "metadata": {
        "id": "view-in-github",
        "colab_type": "text"
      },
      "source": [
        "<a href=\"https://colab.research.google.com/github/churry75/Coding_Test_Prac/blob/main/VGG16_implement.ipynb\" target=\"_parent\"><img src=\"https://colab.research.google.com/assets/colab-badge.svg\" alt=\"Open In Colab\"/></a>"
      ]
    },
    {
      "cell_type": "code",
      "metadata": {
        "id": "QQRt51uLZl9V"
      },
      "source": [
        "import tensorflow as tf\n",
        "from tensorflow import keras"
      ],
      "execution_count": 1,
      "outputs": []
    },
    {
      "cell_type": "code",
      "metadata": {
        "id": "ONbib3xm0_dy"
      },
      "source": [
        "_input = keras.layers.Input(shape=[28, 28, 1])"
      ],
      "execution_count": 28,
      "outputs": []
    },
    {
      "cell_type": "code",
      "metadata": {
        "id": "jqNAmELN1J73"
      },
      "source": [
        "conv_1 = keras.layers.Conv2D(filters=64, kernel_size=3, \n",
        "                             padding='same', activation='relu')(_input)\n",
        "conv_1 = keras.layers.Conv2D(filters=64, kernel_size=3, \n",
        "                             padding='same', activation='relu')(conv_1)\n",
        "conv_1 = keras.layers.MaxPool2D(pool_size=2, strides=2, padding='same')(conv_1)"
      ],
      "execution_count": 29,
      "outputs": []
    },
    {
      "cell_type": "code",
      "metadata": {
        "id": "z5c6g78_3d4l"
      },
      "source": [
        "conv_2 = keras.layers.Conv2D(filters=128, kernel_size=3, \n",
        "                             padding='same', activation='relu')(conv_1)\n",
        "conv_2 = keras.layers.Conv2D(filters=128, kernel_size=3, \n",
        "                             padding='same', activation='relu')(conv_2)\n",
        "conv_2 = keras.layers.MaxPool2D(pool_size=2, strides=2, padding='same')(conv_2)"
      ],
      "execution_count": 30,
      "outputs": []
    },
    {
      "cell_type": "code",
      "metadata": {
        "id": "9NNHWNNk4ECo"
      },
      "source": [
        "conv_3 = keras.layers.Conv2D(filters=256, kernel_size=3, \n",
        "                             padding='same', activation='relu')(conv_2)\n",
        "conv_3 = keras.layers.Conv2D(filters=256, kernel_size=3, \n",
        "                             padding='same', activation='relu')(conv_3)\n",
        "conv_3 = keras.layers.Conv2D(filters=256, kernel_size=3,\n",
        "                             padding='same', activation='relu')(conv_3)\n",
        "conv_3 = keras.layers.MaxPool2D(pool_size=2, strides=2, padding='same')(conv_3)"
      ],
      "execution_count": 31,
      "outputs": []
    },
    {
      "cell_type": "code",
      "metadata": {
        "id": "FSW3duwI4xS0"
      },
      "source": [
        "conv_4 = keras.layers.Conv2D(filters=512, kernel_size=3,\n",
        "                             padding='same', activation='relu')(conv_3)\n",
        "conv_4 = keras.layers.Conv2D(filters=512, kernel_size=3,\n",
        "                             padding='same', activation='relu')(conv_4)\n",
        "conv_4 = keras.layers.Conv2D(filters=512, kernel_size=3,\n",
        "                             padding='same', activation='relu')(conv_4)\n",
        "conv_4 = keras.layers.MaxPool2D(pool_size=2, strides=2, padding='same')(conv_4)"
      ],
      "execution_count": 32,
      "outputs": []
    },
    {
      "cell_type": "code",
      "metadata": {
        "id": "deG7Y6Tp44ke"
      },
      "source": [
        "conv_5 = keras.layers.Conv2D(filters=512, kernel_size=3,\n",
        "                             padding='same', activation='relu')(conv_4)\n",
        "conv_5 = keras.layers.Conv2D(filters=512, kernel_size=3,\n",
        "                             padding='same', activation='relu')(conv_5)\n",
        "conv_5 = keras.layers.Conv2D(filters=512, kernel_size=3,\n",
        "                             padding='same', activation='relu')(conv_5)\n",
        "conv_5 = keras.layers.MaxPool2D(pool_size=2, strides=2, padding='same')(conv_5)"
      ],
      "execution_count": 33,
      "outputs": []
    },
    {
      "cell_type": "code",
      "metadata": {
        "id": "WfLAITi35XWp"
      },
      "source": [
        "flatten_1 = keras.layers.Flatten()(conv_5)\n",
        "dense_1 = keras.layers.Dense(units=4096, activation='relu')(flatten_1)\n",
        "dense_2 = keras.layers.Dense(units=4096, activation='relu')(dense_1)\n",
        "_output = keras.layers.Dense(units=1000, activation='softmax')(dense_2)"
      ],
      "execution_count": 34,
      "outputs": []
    },
    {
      "cell_type": "code",
      "metadata": {
        "colab": {
          "base_uri": "https://localhost:8080/"
        },
        "id": "NHw66NO88T6u",
        "outputId": "b54062e8-a14a-4182-8cfc-553f7174ad72"
      },
      "source": [
        "model = keras.Model(inputs=_input, outputs=_output)\n",
        "model.summary()"
      ],
      "execution_count": 35,
      "outputs": [
        {
          "output_type": "stream",
          "text": [
            "Model: \"model_2\"\n",
            "_________________________________________________________________\n",
            "Layer (type)                 Output Shape              Param #   \n",
            "=================================================================\n",
            "input_2 (InputLayer)         [(None, 28, 28, 1)]       0         \n",
            "_________________________________________________________________\n",
            "conv2d_13 (Conv2D)           (None, 28, 28, 64)        640       \n",
            "_________________________________________________________________\n",
            "conv2d_14 (Conv2D)           (None, 28, 28, 64)        36928     \n",
            "_________________________________________________________________\n",
            "max_pooling2d_5 (MaxPooling2 (None, 14, 14, 64)        0         \n",
            "_________________________________________________________________\n",
            "conv2d_15 (Conv2D)           (None, 14, 14, 128)       73856     \n",
            "_________________________________________________________________\n",
            "conv2d_16 (Conv2D)           (None, 14, 14, 128)       147584    \n",
            "_________________________________________________________________\n",
            "max_pooling2d_6 (MaxPooling2 (None, 7, 7, 128)         0         \n",
            "_________________________________________________________________\n",
            "conv2d_17 (Conv2D)           (None, 7, 7, 256)         295168    \n",
            "_________________________________________________________________\n",
            "conv2d_18 (Conv2D)           (None, 7, 7, 256)         590080    \n",
            "_________________________________________________________________\n",
            "conv2d_19 (Conv2D)           (None, 7, 7, 256)         590080    \n",
            "_________________________________________________________________\n",
            "max_pooling2d_7 (MaxPooling2 (None, 4, 4, 256)         0         \n",
            "_________________________________________________________________\n",
            "conv2d_20 (Conv2D)           (None, 4, 4, 512)         1180160   \n",
            "_________________________________________________________________\n",
            "conv2d_21 (Conv2D)           (None, 4, 4, 512)         2359808   \n",
            "_________________________________________________________________\n",
            "conv2d_22 (Conv2D)           (None, 4, 4, 512)         2359808   \n",
            "_________________________________________________________________\n",
            "max_pooling2d_8 (MaxPooling2 (None, 2, 2, 512)         0         \n",
            "_________________________________________________________________\n",
            "conv2d_23 (Conv2D)           (None, 2, 2, 512)         2359808   \n",
            "_________________________________________________________________\n",
            "conv2d_24 (Conv2D)           (None, 2, 2, 512)         2359808   \n",
            "_________________________________________________________________\n",
            "conv2d_25 (Conv2D)           (None, 2, 2, 512)         2359808   \n",
            "_________________________________________________________________\n",
            "max_pooling2d_9 (MaxPooling2 (None, 1, 1, 512)         0         \n",
            "_________________________________________________________________\n",
            "flatten_1 (Flatten)          (None, 512)               0         \n",
            "_________________________________________________________________\n",
            "dense_3 (Dense)              (None, 4096)              2101248   \n",
            "_________________________________________________________________\n",
            "dense_4 (Dense)              (None, 4096)              16781312  \n",
            "_________________________________________________________________\n",
            "dense_5 (Dense)              (None, 1000)              4097000   \n",
            "=================================================================\n",
            "Total params: 37,693,096\n",
            "Trainable params: 37,693,096\n",
            "Non-trainable params: 0\n",
            "_________________________________________________________________\n"
          ],
          "name": "stdout"
        }
      ]
    }
  ]
}